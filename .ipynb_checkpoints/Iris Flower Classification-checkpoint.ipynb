{
 "cells": [
  {
   "cell_type": "markdown",
   "id": "888c8761-e80f-4ebc-bb6a-de4744e5e830",
   "metadata": {},
   "source": [
    "# Iris Flower Classification\n",
    "\n",
    "## About the Project\n",
    "\n",
    "This project focuses on classifying the Iris flower species using various machine learning models. The goal is to accurately predict the species of an Iris flower based on its features.\n",
    "\n",
    "## About the Dataset\n",
    "\n",
    "The Iris dataset is a classic dataset in the machine learning community. It contains 150 samples of Iris flowers, with 50 samples each from three species: Iris-setosa, Iris-versicolour, and Iris-virginica. Each sample includes four features:\n",
    "- Sepal length\n",
    "- Sepal width\n",
    "- Petal length\n",
    "- Petal width\n",
    "\n",
    "## Import Libraries\n",
    "\n",
    "To start, we need to import the necessary libraries:"
   ]
  },
  {
   "cell_type": "code",
   "execution_count": null,
   "id": "b99f0b3a-633d-47dd-9b22-7c2854d039dc",
   "metadata": {},
   "outputs": [],
   "source": [
    "import pandas as pd\n",
    "import numpy as np\n",
    "import matplotlib.pyplot as plt\n",
    "\n",
    "import sklearn\n",
    "from sklearn.datasets import load_iris\n",
    "from sklearn.metrics import accuracy_score, precision_score, recall_score, f1_score\n",
    "from sklearn.neighbors import KNeighborsClassifier\n",
    "from sklearn.tree import DecisionTreeClassifier, plot_tree\n",
    "from sklearn.ensemble import RandomForestClassifier, AdaBoostClassifier\n",
    "from sklearn.svm import SVC\n",
    "from sklearn.linear_model import LogisticRegression\n",
    "from sklearn.metrics import accuracy_score, precision_score, recall_score, f1_score\n",
    "from sklearn.model_selection import RandomizedSearchCV\n",
    "from catboost import CatBoostClassifier\n",
    "from xgboost import XGBClassifier"
   ]
  },
  {
   "cell_type": "markdown",
   "id": "4599036e-5917-4f49-9f30-e84a0d95985c",
   "metadata": {},
   "source": [
    "## Load Dataset\n",
    "\n",
    "We load the Iris dataset from `sklearn`:"
   ]
  },
  {
   "cell_type": "code",
   "execution_count": null,
   "id": "f0c34ab7-56a1-4fb6-a663-c5384cea9eb8",
   "metadata": {},
   "outputs": [],
   "source": [
    "iris = load_iris(as_frame=True)\n",
    "data = iris['data']\n",
    "data['target'] = iris['target']\n",
    "data.info()"
   ]
  },
  {
   "cell_type": "markdown",
   "id": "a532555c-288f-4ef8-951a-4f97abdff61f",
   "metadata": {},
   "source": [
    "## Splitting Features and Target\n",
    "\n",
    "Separate the features and the target variable:\n"
   ]
  },
  {
   "cell_type": "code",
   "execution_count": null,
   "id": "a092a025-5400-4573-b991-aff1237b1650",
   "metadata": {},
   "outputs": [],
   "source": [
    "X = data.drop(columns = ['target'],axis = 1)\n",
    "y = data['target']\n",
    "X"
   ]
  },
  {
   "cell_type": "code",
   "execution_count": null,
   "id": "ce2ab19a-3b12-45a2-9395-d0d97cd2b165",
   "metadata": {},
   "outputs": [],
   "source": [
    "from sklearn.model_selection import train_test_split\n",
    "X_train, X_test, y_train, y_test = train_test_split(X,y,test_size=0.2,random_state=42)\n",
    "X_train.shape, X_test.shape"
   ]
  },
  {
   "cell_type": "markdown",
   "id": "fe7566c5-c976-4799-aa59-a96aaa0dc14e",
   "metadata": {},
   "source": [
    "## Create Function to Evaluate Models\n",
    "\n",
    "We create a function to evaluate the models using accuracy, precision, recall, and F1 score:"
   ]
  },
  {
   "cell_type": "code",
   "execution_count": null,
   "id": "cc55ae01-6b6c-4130-9796-cd97c29c9c85",
   "metadata": {},
   "outputs": [],
   "source": [
    "def evaluate_model(true, predicted):\n",
    "    accuracy = accuracy_score(true, predicted)\n",
    "    precision = precision_score(true, predicted, average='weighted')\n",
    "    recall = recall_score(true, predicted, average='weighted')\n",
    "    f1 = f1_score(true, predicted, average='weighted')\n",
    "    return accuracy, precision, recall, f1"
   ]
  },
  {
   "cell_type": "markdown",
   "id": "4fbadf93-9e21-444e-9f10-2cf385222ffb",
   "metadata": {},
   "source": [
    "## Models Created, Ran, and Evaluated\n",
    "\n",
    "We create, run, and evaluate the following models:\n",
    "\n",
    "- **K-Nearest Neighbors**\n",
    "- **Decision Tree**\n",
    "- **Random Forest**\n",
    "- **AdaBoost**\n",
    "- **Support Vector Machine**\n",
    "- **Logistic Regression**\n",
    "- **CatBoost**\n",
    "- **XGBoost**\n",
    "\n",
    "Example for evaluating a model and showing the performance of each model:"
   ]
  },
  {
   "cell_type": "code",
   "execution_count": null,
   "id": "c59d9a83-e4fd-4f02-bf02-8fedb6316c5d",
   "metadata": {},
   "outputs": [],
   "source": [
    "import pandas as pd\n",
    "import numpy as np\n",
    "import matplotlib.pyplot as plt\n",
    "import seaborn as sns\n",
    "from sklearn.datasets import load_iris\n",
    "from sklearn.metrics import accuracy_score, precision_score, recall_score, f1_score\n",
    "from sklearn.model_selection import train_test_split\n",
    "from sklearn.neighbors import KNeighborsClassifier\n",
    "from sklearn.tree import DecisionTreeClassifier, plot_tree\n",
    "from sklearn.ensemble import RandomForestClassifier, AdaBoostClassifier\n",
    "from sklearn.svm import SVC\n",
    "from sklearn.linear_model import LogisticRegression\n",
    "from sklearn.model_selection import RandomizedSearchCV\n",
    "from catboost import CatBoostClassifier\n",
    "from xgboost import XGBClassifier\n",
    "\n",
    "# Load dataset\n",
    "iris = load_iris()\n",
    "X = iris.data\n",
    "y = iris.target\n",
    "\n",
    "# Split dataset\n",
    "X_train, X_test, y_train, y_test = train_test_split(X, y, test_size=0.2, random_state=42)\n",
    "\n",
    "# Models\n",
    "models = {\n",
    "    \"Logistic Regression\": LogisticRegression(),\n",
    "    \"K-Neighbors Classifier\": KNeighborsClassifier(),\n",
    "    \"Decision Tree\": DecisionTreeClassifier(),\n",
    "    \"Random Forest Classifier\": RandomForestClassifier(),\n",
    "    \"SVC\": SVC(),\n",
    "    \"XGBClassifier\": XGBClassifier(),\n",
    "    \"CatBoost Classifier\": CatBoostClassifier(verbose=False),\n",
    "    \"AdaBoost Classifier\": AdaBoostClassifier()\n",
    "}\n",
    "\n",
    "model_list = []\n",
    "accuracy_list = []\n",
    "\n",
    "def evaluate_model(y_true, y_pred):\n",
    "    accuracy = accuracy_score(y_true, y_pred)\n",
    "    precision = precision_score(y_true, y_pred, average='macro')\n",
    "    recall = recall_score(y_true, y_pred, average='macro')\n",
    "    f1 = f1_score(y_true, y_pred, average='macro')\n",
    "    return accuracy, precision, recall, f1\n",
    "\n",
    "# Train, evaluate and visualize models\n",
    "for i in range(len(list(models))):\n",
    "    model_name = list(models.keys())[i]\n",
    "    model = models[model_name]\n",
    "    model.fit(X_train, y_train)  # Train model\n",
    "\n",
    "    # Make predictions\n",
    "    y_train_pred = model.predict(X_train)\n",
    "    y_test_pred = model.predict(X_test)\n",
    "    \n",
    "    # Evaluate Train and Test dataset\n",
    "    model_train_accuracy, model_train_precision, model_train_recall, model_train_f1 = evaluate_model(y_train, y_train_pred)\n",
    "    model_test_accuracy, model_test_precision, model_test_recall, model_test_f1 = evaluate_model(y_test, y_test_pred)\n",
    "\n",
    "    print(model_name)\n",
    "    model_list.append(model_name)\n",
    "    \n",
    "    print('Model performance for Training set')\n",
    "    print(\"- Accuracy: {:.4f}\".format(model_train_accuracy))\n",
    "    print(\"- Precision: {:.4f}\".format(model_train_precision))\n",
    "    print(\"- Recall: {:.4f}\".format(model_train_recall))\n",
    "    print(\"- F1 Score: {:.4f}\".format(model_train_f1))\n",
    "\n",
    "    print('----------------------------------')\n",
    "    \n",
    "    print('Model performance for Test set')\n",
    "    print(\"- Accuracy: {:.4f}\".format(model_test_accuracy))\n",
    "    print(\"- Precision: {:.4f}\".format(model_test_precision))\n",
    "    print(\"- Recall: {:.4f}\".format(model_test_recall))\n",
    "    print(\"- F1 Score: {:.4f}\".format(model_test_f1))\n",
    "    accuracy_list.append(model_test_accuracy)\n",
    "    \n",
    "    print('='*35)\n",
    "    print('\\n')\n",
    "\n",
    "    # Visualize Decision Tree\n",
    "    if model_name == \"Decision Tree\":\n",
    "        plt.figure(figsize=(20, 10))\n",
    "        plot_tree(model, filled=True, feature_names=iris.feature_names, class_names=iris.target_names)\n",
    "        plt.title(\"Decision Tree Visualization\")\n",
    "        plt.show()\n"
   ]
  },
  {
   "cell_type": "markdown",
   "id": "364171b1-52cb-4579-a5dc-c730f80387ea",
   "metadata": {},
   "source": [
    "## Prediction"
   ]
  },
  {
   "cell_type": "code",
   "execution_count": null,
   "id": "03538938-ca69-4ff7-8742-2508e9d651ab",
   "metadata": {},
   "outputs": [],
   "source": [
    "# Function to get user input\n",
    "def get_user_input():\n",
    "    print(\"Please enter the following features of the Iris flower:\")\n",
    "    sepal_length = float(input(\"Sepal length (cm): \"))\n",
    "    sepal_width = float(input(\"Sepal width (cm): \"))\n",
    "    petal_length = float(input(\"Petal length (cm): \"))\n",
    "    petal_width = float(input(\"Petal width (cm): \"))\n",
    "    return np.array([[sepal_length, sepal_width, petal_length, petal_width]])\n",
    "\n",
    "# Function to choose model\n",
    "def choose_model():\n",
    "    print(\"Choose a model to make the prediction:\")\n",
    "    for i, model_name in enumerate(models.keys(), 1):\n",
    "        print(f\"{i}. {model_name}\")\n",
    "    choice = int(input(\"Enter the number corresponding to the model: \"))\n",
    "    model_name = list(models.keys())[choice - 1]\n",
    "    return models[model_name], model_name\n",
    "\n",
    "# Main function to make prediction\n",
    "\n",
    "X_new = get_user_input()\n",
    "model, model_name = choose_model()\n",
    "prediction = model.predict(X_new)\n",
    "species = {0: 'Iris-setosa', 1: 'Iris-versicolour', 2: 'Iris-virginica'}\n",
    "print(f\"The predicted species using {model_name} is: {species[prediction[0]]}\")\n"
   ]
  },
  {
   "cell_type": "markdown",
   "id": "461ea933-ee60-44ed-b099-2f522a3a7cc5",
   "metadata": {},
   "source": [
    "## Conclusion\n",
    "\n",
    "This project demonstrates the use of various machine learning models to classify Iris flower species. Each model was evaluated based on accuracy, precision, recall, and F1 score. The results show the effectiveness of different algorithms on this classification task.\n",
    "\n",
    "## Acknowledgements\n",
    "\n",
    "This project was completed as part of the Let's Grow More Virtual Internship Program. Special thanks to the Let's Grow More team for providing this opportunity.\n",
    "\n",
    "---\n",
    "\n"
   ]
  }
 ],
 "metadata": {
  "kernelspec": {
   "display_name": "Python 3 (ipykernel)",
   "language": "python",
   "name": "python3"
  },
  "language_info": {
   "codemirror_mode": {
    "name": "ipython",
    "version": 3
   },
   "file_extension": ".py",
   "mimetype": "text/x-python",
   "name": "python",
   "nbconvert_exporter": "python",
   "pygments_lexer": "ipython3",
   "version": "3.11.7"
  }
 },
 "nbformat": 4,
 "nbformat_minor": 5
}
